{
 "cells": [
  {
   "cell_type": "code",
   "execution_count": 6,
   "metadata": {},
   "outputs": [
    {
     "name": "stdout",
     "output_type": "stream",
     "text": [
      "Enter the length of side A :3\n",
      "Enter the length of side B :4\n",
      "Enter the length of side C :5\n",
      "Area of triangle is : 6.0\n"
     ]
    }
   ],
   "source": [
    "#class to calculate area of a triangle\n",
    "class Triangle:\n",
    "    \n",
    "    #defining constructor\n",
    "    def __init__(self,a,b,c):\n",
    "        self.a = a\n",
    "        self.b = b\n",
    "        self.c = c\n",
    "    \n",
    "    #function to calculate area\n",
    "    def area(self):\n",
    "        s = (self.a+self.b+self.c)/2\n",
    "        ar = (s*(s-self.a)*(s-self.b)*(s-self.c))**0.5\n",
    "        return ar\n",
    "\n",
    "#taking triangle sides as input from user\n",
    "a = float(input(\"Enter the length of side A :\"))\n",
    "b = float(input(\"Enter the length of side B :\"))\n",
    "c = float(input(\"Enter the length of side C :\"))\n",
    "\n",
    "#creating instance of Triangle class \n",
    "tri = Triangle(a,b,c)\n",
    "\n",
    "#printing the area of triangle\n",
    "print(\"Area of triangle is : {}\".format(tri.area()))\n",
    "    \n",
    "    \n"
   ]
  },
  {
   "cell_type": "code",
   "execution_count": 23,
   "metadata": {},
   "outputs": [
    {
     "name": "stdout",
     "output_type": "stream",
     "text": [
      "Enter the value of n : 3\n",
      "List of words that are longer than 3\n",
      "['xxyz', 'xyxyxzz', 'zxyyx']\n"
     ]
    }
   ],
   "source": [
    "#function to filter list of words that are longer than n\n",
    "def filter_long_words(lst,n):\n",
    "    new_lst = []\n",
    "    for i in range(0,len(lst)):\n",
    "        if len(lst[i])>n:\n",
    "            new_lst.append(lst[i])\n",
    "    return new_lst\n",
    "\n",
    "#initialising list \n",
    "words = ['xyz','xxyz','xyxyxzz','zxyyx','z','x','y']\n",
    "\n",
    "#taking input n from user \n",
    "n = int(input(\"Enter the value of n : \"))\n",
    "\n",
    "#calling function to filter the list based on value of n\n",
    "new_words =  filter_long_words(words,n)\n",
    "\n",
    "print(\"List of words that are longer than {}\".format(n))\n",
    "\n",
    "#printing the filtered list\n",
    "print(new_words)\n",
    "    "
   ]
  },
  {
   "cell_type": "code",
   "execution_count": 17,
   "metadata": {},
   "outputs": [
    {
     "name": "stdout",
     "output_type": "stream",
     "text": [
      "[2, 3, 4]\n"
     ]
    }
   ],
   "source": [
    "#function to calculate length of words in a list\n",
    "def cal_length(lst):\n",
    "    new_lst = []\n",
    "    for i in range(0,len(lst)):\n",
    "        new_lst.append(len(lst[i]))\n",
    "    return new_lst\n",
    "\n",
    "#initialising list \n",
    "word_list = ['ab','cde','erty']\n",
    "\n",
    "#calling the function cal_length to get list of length of words\n",
    "len_list = cal_length(word_list)\n",
    "\n",
    "#printing the list of lengths \n",
    "print(len_list)"
   ]
  },
  {
   "cell_type": "code",
   "execution_count": 22,
   "metadata": {},
   "outputs": [
    {
     "name": "stdout",
     "output_type": "stream",
     "text": [
      "True\n",
      "False\n"
     ]
    }
   ],
   "source": [
    "#function to find whether a character is vowel or not\n",
    "def vowel_find(c):\n",
    "    if c not in {'a', 'e', 'i', 'o', 'u','A','E','I','O','U'}:\n",
    "        return False\n",
    "    else: \n",
    "        return True\n",
    "\n",
    "#calling the function\n",
    "t1 = vowel_find('e')\n",
    "print(t1)\n",
    "\n",
    "#calling the function\n",
    "t2 = vowel_find('s')\n",
    "print(t2) "
   ]
  },
  {
   "cell_type": "code",
   "execution_count": null,
   "metadata": {},
   "outputs": [],
   "source": []
  }
 ],
 "metadata": {
  "kernelspec": {
   "display_name": "Python 3",
   "language": "python",
   "name": "python3"
  },
  "language_info": {
   "codemirror_mode": {
    "name": "ipython",
    "version": 3
   },
   "file_extension": ".py",
   "mimetype": "text/x-python",
   "name": "python",
   "nbconvert_exporter": "python",
   "pygments_lexer": "ipython3",
   "version": "3.7.0"
  }
 },
 "nbformat": 4,
 "nbformat_minor": 2
}
